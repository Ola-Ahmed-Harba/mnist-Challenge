{
  "nbformat": 4,
  "nbformat_minor": 0,
  "metadata": {
    "colab": {
      "name": "mo-mnist-clf.ipynb",
      "provenance": [],
      "collapsed_sections": []
    },
    "kernelspec": {
      "name": "python3",
      "display_name": "Python 3"
    },
    "accelerator": "GPU"
  },
  "cells": [
    {
      "cell_type": "markdown",
      "metadata": {
        "id": "LkBKD0_Np3iy"
      },
      "source": [
        "**Install libraries**"
      ]
    },
    {
      "cell_type": "code",
      "metadata": {
        "colab": {
          "base_uri": "https://localhost:8080/"
        },
        "id": "Gjf2qDCPp32N",
        "outputId": "6357bf19-dc1a-4fd8-8972-3fe51be8c719"
      },
      "source": [
        "!pip install -U numpy\r\n",
        "!pip install -U tensorflow\r\n",
        "!pip install -U keras\r\n",
        "!pip install matplotlib==3.2.2"
      ],
      "execution_count": 1,
      "outputs": [
        {
          "output_type": "stream",
          "text": [
            "Requirement already up-to-date: numpy in /usr/local/lib/python3.6/dist-packages (1.19.5)\n",
            "Requirement already up-to-date: tensorflow in /usr/local/lib/python3.6/dist-packages (2.4.0)\n",
            "Requirement already satisfied, skipping upgrade: absl-py~=0.10 in /usr/local/lib/python3.6/dist-packages (from tensorflow) (0.10.0)\n",
            "Requirement already satisfied, skipping upgrade: grpcio~=1.32.0 in /usr/local/lib/python3.6/dist-packages (from tensorflow) (1.32.0)\n",
            "Requirement already satisfied, skipping upgrade: tensorboard~=2.4 in /usr/local/lib/python3.6/dist-packages (from tensorflow) (2.4.0)\n",
            "Requirement already satisfied, skipping upgrade: astunparse~=1.6.3 in /usr/local/lib/python3.6/dist-packages (from tensorflow) (1.6.3)\n",
            "Requirement already satisfied, skipping upgrade: google-pasta~=0.2 in /usr/local/lib/python3.6/dist-packages (from tensorflow) (0.2.0)\n",
            "Requirement already satisfied, skipping upgrade: six~=1.15.0 in /usr/local/lib/python3.6/dist-packages (from tensorflow) (1.15.0)\n",
            "Requirement already satisfied, skipping upgrade: numpy~=1.19.2 in /usr/local/lib/python3.6/dist-packages (from tensorflow) (1.19.5)\n",
            "Requirement already satisfied, skipping upgrade: opt-einsum~=3.3.0 in /usr/local/lib/python3.6/dist-packages (from tensorflow) (3.3.0)\n",
            "Requirement already satisfied, skipping upgrade: termcolor~=1.1.0 in /usr/local/lib/python3.6/dist-packages (from tensorflow) (1.1.0)\n",
            "Requirement already satisfied, skipping upgrade: wheel~=0.35 in /usr/local/lib/python3.6/dist-packages (from tensorflow) (0.36.2)\n",
            "Requirement already satisfied, skipping upgrade: tensorflow-estimator<2.5.0,>=2.4.0rc0 in /usr/local/lib/python3.6/dist-packages (from tensorflow) (2.4.0)\n",
            "Requirement already satisfied, skipping upgrade: typing-extensions~=3.7.4 in /usr/local/lib/python3.6/dist-packages (from tensorflow) (3.7.4.3)\n",
            "Requirement already satisfied, skipping upgrade: flatbuffers~=1.12.0 in /usr/local/lib/python3.6/dist-packages (from tensorflow) (1.12)\n",
            "Requirement already satisfied, skipping upgrade: protobuf>=3.9.2 in /usr/local/lib/python3.6/dist-packages (from tensorflow) (3.12.4)\n",
            "Requirement already satisfied, skipping upgrade: h5py~=2.10.0 in /usr/local/lib/python3.6/dist-packages (from tensorflow) (2.10.0)\n",
            "Requirement already satisfied, skipping upgrade: keras-preprocessing~=1.1.2 in /usr/local/lib/python3.6/dist-packages (from tensorflow) (1.1.2)\n",
            "Requirement already satisfied, skipping upgrade: wrapt~=1.12.1 in /usr/local/lib/python3.6/dist-packages (from tensorflow) (1.12.1)\n",
            "Requirement already satisfied, skipping upgrade: gast==0.3.3 in /usr/local/lib/python3.6/dist-packages (from tensorflow) (0.3.3)\n",
            "Requirement already satisfied, skipping upgrade: markdown>=2.6.8 in /usr/local/lib/python3.6/dist-packages (from tensorboard~=2.4->tensorflow) (3.3.3)\n",
            "Requirement already satisfied, skipping upgrade: setuptools>=41.0.0 in /usr/local/lib/python3.6/dist-packages (from tensorboard~=2.4->tensorflow) (51.1.1)\n",
            "Requirement already satisfied, skipping upgrade: google-auth-oauthlib<0.5,>=0.4.1 in /usr/local/lib/python3.6/dist-packages (from tensorboard~=2.4->tensorflow) (0.4.2)\n",
            "Requirement already satisfied, skipping upgrade: werkzeug>=0.11.15 in /usr/local/lib/python3.6/dist-packages (from tensorboard~=2.4->tensorflow) (1.0.1)\n",
            "Requirement already satisfied, skipping upgrade: requests<3,>=2.21.0 in /usr/local/lib/python3.6/dist-packages (from tensorboard~=2.4->tensorflow) (2.23.0)\n",
            "Requirement already satisfied, skipping upgrade: google-auth<2,>=1.6.3 in /usr/local/lib/python3.6/dist-packages (from tensorboard~=2.4->tensorflow) (1.17.2)\n",
            "Requirement already satisfied, skipping upgrade: tensorboard-plugin-wit>=1.6.0 in /usr/local/lib/python3.6/dist-packages (from tensorboard~=2.4->tensorflow) (1.7.0)\n",
            "Requirement already satisfied, skipping upgrade: importlib-metadata; python_version < \"3.8\" in /usr/local/lib/python3.6/dist-packages (from markdown>=2.6.8->tensorboard~=2.4->tensorflow) (3.3.0)\n",
            "Requirement already satisfied, skipping upgrade: requests-oauthlib>=0.7.0 in /usr/local/lib/python3.6/dist-packages (from google-auth-oauthlib<0.5,>=0.4.1->tensorboard~=2.4->tensorflow) (1.3.0)\n",
            "Requirement already satisfied, skipping upgrade: certifi>=2017.4.17 in /usr/local/lib/python3.6/dist-packages (from requests<3,>=2.21.0->tensorboard~=2.4->tensorflow) (2020.12.5)\n",
            "Requirement already satisfied, skipping upgrade: chardet<4,>=3.0.2 in /usr/local/lib/python3.6/dist-packages (from requests<3,>=2.21.0->tensorboard~=2.4->tensorflow) (3.0.4)\n",
            "Requirement already satisfied, skipping upgrade: idna<3,>=2.5 in /usr/local/lib/python3.6/dist-packages (from requests<3,>=2.21.0->tensorboard~=2.4->tensorflow) (2.10)\n",
            "Requirement already satisfied, skipping upgrade: urllib3!=1.25.0,!=1.25.1,<1.26,>=1.21.1 in /usr/local/lib/python3.6/dist-packages (from requests<3,>=2.21.0->tensorboard~=2.4->tensorflow) (1.24.3)\n",
            "Requirement already satisfied, skipping upgrade: rsa<5,>=3.1.4; python_version >= \"3\" in /usr/local/lib/python3.6/dist-packages (from google-auth<2,>=1.6.3->tensorboard~=2.4->tensorflow) (4.6)\n",
            "Requirement already satisfied, skipping upgrade: cachetools<5.0,>=2.0.0 in /usr/local/lib/python3.6/dist-packages (from google-auth<2,>=1.6.3->tensorboard~=2.4->tensorflow) (4.2.0)\n",
            "Requirement already satisfied, skipping upgrade: pyasn1-modules>=0.2.1 in /usr/local/lib/python3.6/dist-packages (from google-auth<2,>=1.6.3->tensorboard~=2.4->tensorflow) (0.2.8)\n",
            "Requirement already satisfied, skipping upgrade: zipp>=0.5 in /usr/local/lib/python3.6/dist-packages (from importlib-metadata; python_version < \"3.8\"->markdown>=2.6.8->tensorboard~=2.4->tensorflow) (3.4.0)\n",
            "Requirement already satisfied, skipping upgrade: oauthlib>=3.0.0 in /usr/local/lib/python3.6/dist-packages (from requests-oauthlib>=0.7.0->google-auth-oauthlib<0.5,>=0.4.1->tensorboard~=2.4->tensorflow) (3.1.0)\n",
            "Requirement already satisfied, skipping upgrade: pyasn1>=0.1.3 in /usr/local/lib/python3.6/dist-packages (from rsa<5,>=3.1.4; python_version >= \"3\"->google-auth<2,>=1.6.3->tensorboard~=2.4->tensorflow) (0.4.8)\n",
            "Requirement already up-to-date: keras in /usr/local/lib/python3.6/dist-packages (2.4.3)\n",
            "Requirement already satisfied, skipping upgrade: h5py in /usr/local/lib/python3.6/dist-packages (from keras) (2.10.0)\n",
            "Requirement already satisfied, skipping upgrade: numpy>=1.9.1 in /usr/local/lib/python3.6/dist-packages (from keras) (1.19.5)\n",
            "Requirement already satisfied, skipping upgrade: scipy>=0.14 in /usr/local/lib/python3.6/dist-packages (from keras) (1.4.1)\n",
            "Requirement already satisfied, skipping upgrade: pyyaml in /usr/local/lib/python3.6/dist-packages (from keras) (3.13)\n",
            "Requirement already satisfied, skipping upgrade: six in /usr/local/lib/python3.6/dist-packages (from h5py->keras) (1.15.0)\n",
            "Requirement already satisfied: matplotlib==3.2.2 in /usr/local/lib/python3.6/dist-packages (3.2.2)\n",
            "Requirement already satisfied: kiwisolver>=1.0.1 in /usr/local/lib/python3.6/dist-packages (from matplotlib==3.2.2) (1.3.1)\n",
            "Requirement already satisfied: pyparsing!=2.0.4,!=2.1.2,!=2.1.6,>=2.0.1 in /usr/local/lib/python3.6/dist-packages (from matplotlib==3.2.2) (2.4.7)\n",
            "Requirement already satisfied: cycler>=0.10 in /usr/local/lib/python3.6/dist-packages (from matplotlib==3.2.2) (0.10.0)\n",
            "Requirement already satisfied: python-dateutil>=2.1 in /usr/local/lib/python3.6/dist-packages (from matplotlib==3.2.2) (2.8.1)\n",
            "Requirement already satisfied: numpy>=1.11 in /usr/local/lib/python3.6/dist-packages (from matplotlib==3.2.2) (1.19.5)\n",
            "Requirement already satisfied: six in /usr/local/lib/python3.6/dist-packages (from cycler>=0.10->matplotlib==3.2.2) (1.15.0)\n"
          ],
          "name": "stdout"
        }
      ]
    },
    {
      "cell_type": "markdown",
      "metadata": {
        "id": "NXgpfzDQL4ll"
      },
      "source": [
        "**Download Data**"
      ]
    },
    {
      "cell_type": "code",
      "metadata": {
        "colab": {
          "base_uri": "https://localhost:8080/"
        },
        "id": "hpxMcXirLnS1",
        "outputId": "3838b951-c100-4a52-e2b3-61c56670aabb"
      },
      "source": [
        "!wget http://yann.lecun.com/exdb/mnist/train-images-idx3-ubyte.gz\r\n",
        "!wget http://yann.lecun.com/exdb/mnist/train-labels-idx1-ubyte.gz\r\n",
        "!wget http://yann.lecun.com/exdb/mnist/t10k-images-idx3-ubyte.gz\r\n",
        "!wget http://yann.lecun.com/exdb/mnist/t10k-labels-idx1-ubyte.gz"
      ],
      "execution_count": 2,
      "outputs": [
        {
          "output_type": "stream",
          "text": [
            "--2021-01-14 13:56:58--  http://yann.lecun.com/exdb/mnist/train-images-idx3-ubyte.gz\n",
            "Resolving yann.lecun.com (yann.lecun.com)... 172.67.171.76, 104.21.29.36, 2606:4700:3036::ac43:ab4c, ...\n",
            "Connecting to yann.lecun.com (yann.lecun.com)|172.67.171.76|:80... connected.\n",
            "HTTP request sent, awaiting response... 200 OK\n",
            "Length: 9912422 (9.5M) [application/x-gzip]\n",
            "Saving to: ‘train-images-idx3-ubyte.gz’\n",
            "\n",
            "train-images-idx3-u 100%[===================>]   9.45M  9.82MB/s    in 1.0s    \n",
            "\n",
            "2021-01-14 13:56:59 (9.82 MB/s) - ‘train-images-idx3-ubyte.gz’ saved [9912422/9912422]\n",
            "\n",
            "--2021-01-14 13:57:00--  http://yann.lecun.com/exdb/mnist/train-labels-idx1-ubyte.gz\n",
            "Resolving yann.lecun.com (yann.lecun.com)... 172.67.171.76, 104.21.29.36, 2606:4700:3036::ac43:ab4c, ...\n",
            "Connecting to yann.lecun.com (yann.lecun.com)|172.67.171.76|:80... connected.\n",
            "HTTP request sent, awaiting response... 200 OK\n",
            "Length: 28881 (28K) [application/x-gzip]\n",
            "Saving to: ‘train-labels-idx1-ubyte.gz’\n",
            "\n",
            "train-labels-idx1-u 100%[===================>]  28.20K  --.-KB/s    in 0.07s   \n",
            "\n",
            "2021-01-14 13:57:00 (398 KB/s) - ‘train-labels-idx1-ubyte.gz’ saved [28881/28881]\n",
            "\n",
            "--2021-01-14 13:57:00--  http://yann.lecun.com/exdb/mnist/t10k-images-idx3-ubyte.gz\n",
            "Resolving yann.lecun.com (yann.lecun.com)... 172.67.171.76, 104.21.29.36, 2606:4700:3036::ac43:ab4c, ...\n",
            "Connecting to yann.lecun.com (yann.lecun.com)|172.67.171.76|:80... connected.\n",
            "HTTP request sent, awaiting response... 200 OK\n",
            "Length: 1648877 (1.6M) [application/x-gzip]\n",
            "Saving to: ‘t10k-images-idx3-ubyte.gz’\n",
            "\n",
            "t10k-images-idx3-ub 100%[===================>]   1.57M  2.92MB/s    in 0.5s    \n",
            "\n",
            "2021-01-14 13:57:01 (2.92 MB/s) - ‘t10k-images-idx3-ubyte.gz’ saved [1648877/1648877]\n",
            "\n",
            "--2021-01-14 13:57:01--  http://yann.lecun.com/exdb/mnist/t10k-labels-idx1-ubyte.gz\n",
            "Resolving yann.lecun.com (yann.lecun.com)... 172.67.171.76, 104.21.29.36, 2606:4700:3036::ac43:ab4c, ...\n",
            "Connecting to yann.lecun.com (yann.lecun.com)|172.67.171.76|:80... connected.\n",
            "HTTP request sent, awaiting response... 200 OK\n",
            "Length: 4542 (4.4K) [application/x-gzip]\n",
            "Saving to: ‘t10k-labels-idx1-ubyte.gz’\n",
            "\n",
            "t10k-labels-idx1-ub 100%[===================>]   4.44K  --.-KB/s    in 0s      \n",
            "\n",
            "2021-01-14 13:57:01 (414 MB/s) - ‘t10k-labels-idx1-ubyte.gz’ saved [4542/4542]\n",
            "\n"
          ],
          "name": "stdout"
        }
      ]
    },
    {
      "cell_type": "markdown",
      "metadata": {
        "id": "MXijoLM2sEj1"
      },
      "source": [
        "**import lib**"
      ]
    },
    {
      "cell_type": "code",
      "metadata": {
        "id": "60yd-LQrsDwq"
      },
      "source": [
        "from matplotlib import pyplot\r\n",
        "from keras.utils import to_categorical\r\n",
        "from keras.models import Sequential\r\n",
        "from keras.layers import Conv2D\r\n",
        "from keras.layers import MaxPooling2D\r\n",
        "from keras.layers import Dense\r\n",
        "from keras.layers import Flatten\r\n",
        "from keras.optimizers import SGD\r\n",
        "\r\n",
        "from keras.models import load_model\r\n",
        "from IPython.display import Image, display \r\n",
        "from keras.preprocessing.image import load_img\r\n",
        "from keras.preprocessing.image import img_to_array \r\n",
        "from struct import unpack\r\n",
        "import gzip\r\n",
        "from numpy import zeros, uint8, float32, exp, max, log2, sum, log\r\n",
        "import numpy as np"
      ],
      "execution_count": 3,
      "outputs": []
    },
    {
      "cell_type": "code",
      "metadata": {
        "id": "hGT7mNIn5HW3"
      },
      "source": [
        "#Stop all warnings\r\n",
        "def warn(*args, **kwargs):\r\n",
        "    pass\r\n",
        "import warnings\r\n",
        "warnings.warn = warn"
      ],
      "execution_count": 4,
      "outputs": []
    },
    {
      "cell_type": "markdown",
      "metadata": {
        "id": "QVRCaiVAh7O1"
      },
      "source": [
        "**Loading and processing data**"
      ]
    },
    {
      "cell_type": "code",
      "metadata": {
        "id": "DdLk8ESlbz3N",
        "colab": {
          "base_uri": "https://localhost:8080/"
        },
        "outputId": "54b8ee90-10eb-4a1c-fa51-e11f9695b062"
      },
      "source": [
        "def read_gz(images,labels):\r\n",
        "    images.read(4)  # skip the magic_number\r\n",
        "    number_of_images = images.read(4)\r\n",
        "    number_of_images = unpack('>I', number_of_images)[0]\r\n",
        "    rows = images.read(4)\r\n",
        "    rows = unpack('>I', rows)[0]#28\r\n",
        "    cols = images.read(4)\r\n",
        "    cols = unpack('>I', cols)[0]#28\r\n",
        "    # Get metadata for labels\r\n",
        "    labels.read(4)  # skip the magic_number\r\n",
        "    N = labels.read(4)\r\n",
        "    N = unpack('>I', N)[0] #60000\r\n",
        "\r\n",
        "    if number_of_images != N:\r\n",
        "        raise Exception('number of labels did not match the number of images')\r\n",
        "    # Get the data\r\n",
        "    x = zeros((N, rows, cols), dtype=float32)  # Initialize array #60000X28X28\r\n",
        "    y = zeros((N, 1), dtype=uint8)  # Initialize array\r\n",
        "    for i in range(N):\r\n",
        "        if i % 1000 == 0:\r\n",
        "            print(\"i: %i\" % i)\r\n",
        "        for row in range(rows):\r\n",
        "            for col in range(cols):\r\n",
        "                tmp_pixel = images.read(1)  # Just a single byte\r\n",
        "                tmp_pixel = unpack('>B', tmp_pixel)[0]\r\n",
        "                x[i][row][col] = tmp_pixel\r\n",
        "        tmp_label = labels.read(1)\r\n",
        "        y[i] = unpack('>B', tmp_label)[0]\r\n",
        "    return (x, y)\r\n",
        " \r\n",
        "\r\n",
        "\r\n",
        "try:    #training data\r\n",
        "        data = np.load(\"trainData.npz\")\r\n",
        "        trains_images = data['trains_images']\r\n",
        "        train_images_label = data['train_images_label']\r\n",
        "except  FileNotFoundError:\r\n",
        "        images = gzip.open('train-images-idx3-ubyte.gz', 'rb')\r\n",
        "        labels = gzip.open('train-labels-idx1-ubyte.gz', 'rb')\r\n",
        "        (trains_images,train_images_label) =read_gz(images, labels);\r\n",
        "        np.savez(\"trainData.npz\", trains_images=trains_images, train_images_label=train_images_label)\r\n",
        "\r\n",
        "try:\r\n",
        "        data = np.load(\"testData.npz\")\r\n",
        "        test_images = data['test_images']\r\n",
        "        test_images_label = data['test_images_label']\r\n",
        "except  FileNotFoundError:\r\n",
        "        images = gzip.open('t10k-images-idx3-ubyte.gz', 'rb')\r\n",
        "        labels = gzip.open('t10k-labels-idx1-ubyte.gz', 'rb')\r\n",
        "        (test_images,test_images_label) =read_gz(images,labels);\r\n",
        "        np.savez(\"testData.npz\", test_images=test_images, test_images_label=test_images_label)\r\n",
        "\r\n",
        "\r\n",
        "mean_train_images = np.zeros((10, 28, 28), dtype=float32) \r\n",
        "for i in range(10):\r\n",
        "\t  mean_train_images[i,:,:] = np.mean(trains_images[np.where(train_images_label == i)[0],:,:], axis=0)\r\n",
        "\r\n",
        "std_train_images = np.zeros((10, 28, 28), dtype=float32) \r\n",
        "for i in range(10):\r\n",
        "\t  std_train_images[i,:,:] = np.std(trains_images[np.where(train_images_label == i)[0],:,:], axis=0)"
      ],
      "execution_count": 5,
      "outputs": [
        {
          "output_type": "stream",
          "text": [
            "i: 0\n",
            "i: 1000\n",
            "i: 2000\n",
            "i: 3000\n",
            "i: 4000\n",
            "i: 5000\n",
            "i: 6000\n",
            "i: 7000\n",
            "i: 8000\n",
            "i: 9000\n",
            "i: 10000\n",
            "i: 11000\n",
            "i: 12000\n",
            "i: 13000\n",
            "i: 14000\n",
            "i: 15000\n",
            "i: 16000\n",
            "i: 17000\n",
            "i: 18000\n",
            "i: 19000\n",
            "i: 20000\n",
            "i: 21000\n",
            "i: 22000\n",
            "i: 23000\n",
            "i: 24000\n",
            "i: 25000\n",
            "i: 26000\n",
            "i: 27000\n",
            "i: 28000\n",
            "i: 29000\n",
            "i: 30000\n",
            "i: 31000\n",
            "i: 32000\n",
            "i: 33000\n",
            "i: 34000\n",
            "i: 35000\n",
            "i: 36000\n",
            "i: 37000\n",
            "i: 38000\n",
            "i: 39000\n",
            "i: 40000\n",
            "i: 41000\n",
            "i: 42000\n",
            "i: 43000\n",
            "i: 44000\n",
            "i: 45000\n",
            "i: 46000\n",
            "i: 47000\n",
            "i: 48000\n",
            "i: 49000\n",
            "i: 50000\n",
            "i: 51000\n",
            "i: 52000\n",
            "i: 53000\n",
            "i: 54000\n",
            "i: 55000\n",
            "i: 56000\n",
            "i: 57000\n",
            "i: 58000\n",
            "i: 59000\n",
            "i: 0\n",
            "i: 1000\n",
            "i: 2000\n",
            "i: 3000\n",
            "i: 4000\n",
            "i: 5000\n",
            "i: 6000\n",
            "i: 7000\n",
            "i: 8000\n",
            "i: 9000\n"
          ],
          "name": "stdout"
        }
      ]
    },
    {
      "cell_type": "markdown",
      "metadata": {
        "id": "5ZD5sweciG8V"
      },
      "source": [
        "**summarize loaded dataset**"
      ]
    },
    {
      "cell_type": "code",
      "metadata": {
        "colab": {
          "base_uri": "https://localhost:8080/"
        },
        "id": "DgxtmXCDdyp3",
        "outputId": "fa046ffa-5e7f-4c4a-fd23-57af3ece4072"
      },
      "source": [
        "trains_images.shape ,test_images.shape "
      ],
      "execution_count": 6,
      "outputs": [
        {
          "output_type": "execute_result",
          "data": {
            "text/plain": [
              "((60000, 28, 28), (10000, 28, 28))"
            ]
          },
          "metadata": {
            "tags": []
          },
          "execution_count": 6
        }
      ]
    },
    {
      "cell_type": "code",
      "metadata": {
        "id": "Bdb07xe3eHh_"
      },
      "source": [
        "trainX, trainy, testX, testy = trains_images ,train_images_label ,test_images ,test_images_label "
      ],
      "execution_count": 7,
      "outputs": []
    },
    {
      "cell_type": "code",
      "metadata": {
        "colab": {
          "base_uri": "https://localhost:8080/",
          "height": 268
        },
        "id": "UAvkGg8Ud7PR",
        "outputId": "7b1c0bb8-2892-46c5-cdd0-d166e69c5ce2"
      },
      "source": [
        "# plot first few images\r\n",
        "for i in range(9):\r\n",
        "\t# define subplot\r\n",
        "\tpyplot.subplot(330 + 1 + i)\r\n",
        "\t# plot raw pixel data\r\n",
        "\tpyplot.imshow(trainX[i], cmap=pyplot.get_cmap('gray'))\r\n",
        "# show the figure\r\n",
        "pyplot.show()"
      ],
      "execution_count": 8,
      "outputs": [
        {
          "output_type": "display_data",
          "data": {
            "image/png": "[encoded data removed]",
            "text/plain": [
              "<Figure size 432x288 with 9 Axes>"
            ]
          },
          "metadata": {
            "tags": [],
            "needs_background": "light"
          }
        }
      ]
    },
    {
      "cell_type": "code",
      "metadata": {
        "id": "PyRnoxW3f_O1"
      },
      "source": [
        "# one hot encode target values\r\n",
        "trainY = to_categorical(trainy)\r\n",
        "testY  = to_categorical(testy)\r\n",
        "\r\n",
        "trainX = trainX.reshape((trainX.shape[0], 28, 28, 1))\r\n",
        "testX  = testX.reshape((testX.shape[0], 28, 28, 1))\r\n",
        "\r\n",
        "# convert from integers to floats\r\n",
        "trainX = trainX.astype('float32')\r\n",
        "testX  = testX.astype('float32')\r\n",
        "\r\n",
        "# normalize to range 0-1\r\n",
        "trainX = trainX / 255.0\r\n",
        "testX  = testX / 255.0"
      ],
      "execution_count": 9,
      "outputs": []
    },
    {
      "cell_type": "markdown",
      "metadata": {
        "id": "OqGlA31Mlauf"
      },
      "source": [
        "**Define CNN Model  & Train**"
      ]
    },
    {
      "cell_type": "code",
      "metadata": {
        "id": "r0bpwYCdfg3V"
      },
      "source": [
        "# define cnn model\r\n",
        "def cnn_model():\r\n",
        "\tmodel = Sequential()\r\n",
        "\tmodel.add(Conv2D(32, (3, 3), activation='relu', kernel_initializer='he_uniform', input_shape=(28, 28, 1)))\r\n",
        "\tmodel.add(MaxPooling2D((2, 2)))\r\n",
        "\tmodel.add(Conv2D(64, (3, 3), activation='relu', kernel_initializer='he_uniform'))\r\n",
        "\tmodel.add(Conv2D(64, (3, 3), activation='relu', kernel_initializer='he_uniform'))\r\n",
        "\tmodel.add(MaxPooling2D((2, 2)))\r\n",
        "\tmodel.add(Flatten())\r\n",
        "\tmodel.add(Dense(100, activation='relu', kernel_initializer='he_uniform'))\r\n",
        "\tmodel.add(Dense(10, activation='softmax'))\r\n",
        "\t# compile model\r\n",
        "\topt = SGD(lr=0.01, momentum=0.9)\r\n",
        "\tmodel.compile(optimizer=opt, loss='categorical_crossentropy', metrics=['accuracy'])\r\n",
        "\treturn model\r\n",
        "\r\n",
        "# run the test harness for evaluating a model\r\n",
        "def start_train(trainX, trainY):\r\n",
        "\t#get my model\r\n",
        "\tmodel = cnn_model()\r\n",
        "\t# fit model \r\n",
        "\tmodel.fit(trainX, trainY, epochs=10, batch_size=32, verbose=1)\r\n",
        "\t# save model\r\n",
        "\tmodel.save('final_model.h5')"
      ],
      "execution_count": 10,
      "outputs": []
    },
    {
      "cell_type": "code",
      "metadata": {
        "colab": {
          "base_uri": "https://localhost:8080/"
        },
        "id": "r36LC5Q4Mi1l",
        "outputId": "7947403d-3b40-415a-8b1b-1eda3e354714"
      },
      "source": [
        "# entry point, run \r\n",
        "start_train(trainX, trainY)"
      ],
      "execution_count": 11,
      "outputs": [
        {
          "output_type": "stream",
          "text": [
            "Epoch 1/10\n",
            "1875/1875 [==============================] - 17s 6ms/step - loss: 0.2684 - accuracy: 0.9161\n",
            "Epoch 2/10\n",
            "1875/1875 [==============================] - 10s 6ms/step - loss: 0.0432 - accuracy: 0.9874\n",
            "Epoch 3/10\n",
            "1875/1875 [==============================] - 10s 6ms/step - loss: 0.0304 - accuracy: 0.9904\n",
            "Epoch 4/10\n",
            "1875/1875 [==============================] - 11s 6ms/step - loss: 0.0196 - accuracy: 0.9940\n",
            "Epoch 5/10\n",
            "1875/1875 [==============================] - 10s 6ms/step - loss: 0.0147 - accuracy: 0.9958\n",
            "Epoch 6/10\n",
            "1875/1875 [==============================] - 10s 6ms/step - loss: 0.0112 - accuracy: 0.9963\n",
            "Epoch 7/10\n",
            "1875/1875 [==============================] - 10s 6ms/step - loss: 0.0082 - accuracy: 0.9976\n",
            "Epoch 8/10\n",
            "1875/1875 [==============================] - 10s 6ms/step - loss: 0.0065 - accuracy: 0.9982\n",
            "Epoch 9/10\n",
            "1875/1875 [==============================] - 10s 6ms/step - loss: 0.0059 - accuracy: 0.9980\n",
            "Epoch 10/10\n",
            "1875/1875 [==============================] - 10s 6ms/step - loss: 0.0046 - accuracy: 0.9986\n"
          ],
          "name": "stdout"
        }
      ]
    },
    {
      "cell_type": "markdown",
      "metadata": {
        "id": "LRm07ajDNxgF"
      },
      "source": [
        "**Model Evaluation on Test Data**"
      ]
    },
    {
      "cell_type": "code",
      "metadata": {
        "id": "T-xVM8NXMuzg"
      },
      "source": [
        "def evaluating(testX ,testY):\r\n",
        "    #load Model\r\n",
        "    model = load_model('/content/final_model.h5')\r\n",
        "\r\n",
        "    ret ,accuracy = model.evaluate(testX ,testY, verbose=1)\r\n",
        "\r\n",
        "    print(\"accuracy: {:.2f}\".format(accuracy * 100.0))\r\n"
      ],
      "execution_count": 14,
      "outputs": []
    },
    {
      "cell_type": "code",
      "metadata": {
        "colab": {
          "base_uri": "https://localhost:8080/"
        },
        "id": "R-zG146ONj8r",
        "outputId": "5a13f524-85a1-443f-b640-ef91bb09aa8c"
      },
      "source": [
        "evaluating(testX ,testY)"
      ],
      "execution_count": 15,
      "outputs": [
        {
          "output_type": "stream",
          "text": [
            "313/313 [==============================] - 2s 4ms/step - loss: 0.0304 - accuracy: 0.9915\n",
            "accuracy: 99.15\n"
          ],
          "name": "stdout"
        }
      ]
    },
    {
      "cell_type": "markdown",
      "metadata": {
        "id": "86mHvbjuN8Ql"
      },
      "source": [
        "**Test sample image**"
      ]
    },
    {
      "cell_type": "code",
      "metadata": {
        "id": "cQPd0q5GN7xF"
      },
      "source": [
        "def load_image(path_img):\r\n",
        "    img = load_img(path_img  ,grayscale=True ,target_size=(28,28))\r\n",
        "\r\n",
        "    img = img_to_array(img)\r\n",
        "\r\n",
        "    #reshape into a single sample with 1 channel\r\n",
        "    img = img.reshape(1, 28, 28, 1)\r\n",
        "    #prepare pixel image\r\n",
        "    img = img.astype('float32')\r\n",
        "    img = img/255.0\r\n",
        "    return img\r\n",
        "    "
      ],
      "execution_count": 16,
      "outputs": []
    },
    {
      "cell_type": "code",
      "metadata": {
        "id": "gO-uvo6iPGkB"
      },
      "source": [
        "def test_img(path_img):\r\n",
        "    img = load_image(path_img)\r\n",
        "\r\n",
        "    #load model\r\n",
        "    model = load_model('/content/final_model.h5')\r\n",
        "\r\n",
        "    #predict the class\r\n",
        "    pred = model.predict_classes(img)\r\n",
        "\r\n",
        "    print(\"### result ###\")\r\n",
        "    display(Image(path_img ,width=100, height=100))\r\n",
        "    print(\"result: {}\".format(pred[0]))"
      ],
      "execution_count": 17,
      "outputs": []
    },
    {
      "cell_type": "code",
      "metadata": {
        "colab": {
          "base_uri": "https://localhost:8080/"
        },
        "id": "ah35y0MeQFDF",
        "outputId": "bdbb23bd-e21b-4aad-edcb-a5cfe9eb9b8f"
      },
      "source": [
        "!wget https://github.com/Ola-Ahmed-Harba/mnist-Challenge/raw/main/samples/samle0.jpg\r\n",
        "!wget https://github.com/Ola-Ahmed-Harba/mnist-Challenge/raw/main/samples/sample01.png"
      ],
      "execution_count": 18,
      "outputs": [
        {
          "output_type": "stream",
          "text": [
            "--2021-01-14 14:16:21--  https://github.com/Ola-Ahmed-Harba/mnist-Challenge/raw/main/samples/samle0.jpg\n",
            "Resolving github.com (github.com)... 140.82.121.4\n",
            "Connecting to github.com (github.com)|140.82.121.4|:443... connected.\n",
            "HTTP request sent, awaiting response... 302 Found\n",
            "Location: https://raw.githubusercontent.com/Ola-Ahmed-Harba/mnist-Challenge/main/samples/samle0.jpg [following]\n",
            "--2021-01-14 14:16:22--  https://raw.githubusercontent.com/Ola-Ahmed-Harba/mnist-Challenge/main/samples/samle0.jpg\n",
            "Resolving raw.githubusercontent.com (raw.githubusercontent.com)... 151.101.0.133, 151.101.64.133, 151.101.128.133, ...\n",
            "Connecting to raw.githubusercontent.com (raw.githubusercontent.com)|151.101.0.133|:443... connected.\n",
            "HTTP request sent, awaiting response... 200 OK\n",
            "Length: 2191 (2.1K) [image/jpeg]\n",
            "Saving to: ‘samle0.jpg’\n",
            "\n",
            "samle0.jpg          100%[===================>]   2.14K  --.-KB/s    in 0s      \n",
            "\n",
            "2021-01-14 14:16:22 (27.0 MB/s) - ‘samle0.jpg’ saved [2191/2191]\n",
            "\n",
            "--2021-01-14 14:16:22--  https://github.com/Ola-Ahmed-Harba/mnist-Challenge/raw/main/samples/sample01.png\n",
            "Resolving github.com (github.com)... 140.82.121.3\n",
            "Connecting to github.com (github.com)|140.82.121.3|:443... connected.\n",
            "HTTP request sent, awaiting response... 302 Found\n",
            "Location: https://raw.githubusercontent.com/Ola-Ahmed-Harba/mnist-Challenge/main/samples/sample01.png [following]\n",
            "--2021-01-14 14:16:22--  https://raw.githubusercontent.com/Ola-Ahmed-Harba/mnist-Challenge/main/samples/sample01.png\n",
            "Resolving raw.githubusercontent.com (raw.githubusercontent.com)... 151.101.0.133, 151.101.64.133, 151.101.128.133, ...\n",
            "Connecting to raw.githubusercontent.com (raw.githubusercontent.com)|151.101.0.133|:443... connected.\n",
            "HTTP request sent, awaiting response... 200 OK\n",
            "Length: 61602 (60K) [image/png]\n",
            "Saving to: ‘sample01.png’\n",
            "\n",
            "sample01.png        100%[===================>]  60.16K  --.-KB/s    in 0.005s  \n",
            "\n",
            "2021-01-14 14:16:23 (12.7 MB/s) - ‘sample01.png’ saved [61602/61602]\n",
            "\n"
          ],
          "name": "stdout"
        }
      ]
    },
    {
      "cell_type": "code",
      "metadata": {
        "colab": {
          "base_uri": "https://localhost:8080/",
          "height": 151
        },
        "id": "tCqqvU3jQSIZ",
        "outputId": "20997bab-c14d-40e4-8c43-2ce6f6cbb443"
      },
      "source": [
        "test_img(\"sample01.png\")"
      ],
      "execution_count": 19,
      "outputs": [
        {
          "output_type": "stream",
          "text": [
            "### result ###\n"
          ],
          "name": "stdout"
        },
        {
          "output_type": "display_data",
          "data": {
            "image/png": "[encoded data removed]",
            "text/plain": [
              "<IPython.core.display.Image object>"
            ]
          },
          "metadata": {
            "tags": [],
            "image/png": {
              "width": 100,
              "height": 100
            }
          }
        },
        {
          "output_type": "stream",
          "text": [
            "result: 7\n"
          ],
          "name": "stdout"
        }
      ]
    },
    {
      "cell_type": "code",
      "metadata": {
        "colab": {
          "base_uri": "https://localhost:8080/",
          "height": 151
        },
        "id": "XIsBb0iFQbkL",
        "outputId": "491aa281-265a-4c2f-ec58-776b39297291"
      },
      "source": [
        "test_img(\"samle0.jpg\")"
      ],
      "execution_count": 20,
      "outputs": [
        {
          "output_type": "stream",
          "text": [
            "### result ###\n"
          ],
          "name": "stdout"
        },
        {
          "output_type": "display_data",
          "data": {
            "image/jpeg": "[encoded data removed]",
            "text/plain": [
              "<IPython.core.display.Image object>"
            ]
          },
          "metadata": {
            "tags": [],
            "image/jpeg": {
              "width": 100,
              "height": 100
            }
          }
        },
        {
          "output_type": "stream",
          "text": [
            "result: 3\n"
          ],
          "name": "stdout"
        }
      ]
    },
    {
      "cell_type": "markdown",
      "metadata": {
        "id": "of-u8o4VQgLd"
      },
      "source": [
        "**Done..**"
      ]
    }
  ]
}